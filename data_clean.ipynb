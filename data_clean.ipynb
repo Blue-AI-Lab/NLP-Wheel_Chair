{
 "cells": [
  {
   "cell_type": "code",
   "execution_count": 2,
   "id": "0415b3c4-8019-4bc4-938a-489d3b774e07",
   "metadata": {},
   "outputs": [],
   "source": [
    "import pandas as pd\n",
    "import numpy as np"
   ]
  },
  {
   "cell_type": "code",
   "execution_count": 5,
   "id": "58d1f08d-3240-401a-8ec5-8bde1e74ce45",
   "metadata": {},
   "outputs": [],
   "source": [
    "data = pd.read_csv('data.csv')"
   ]
  },
  {
   "cell_type": "code",
   "execution_count": 6,
   "id": "aebdf50c-16dc-4367-902f-93e6305d22a7",
   "metadata": {},
   "outputs": [
    {
     "data": {
      "text/html": [
       "<div>\n",
       "<style scoped>\n",
       "    .dataframe tbody tr th:only-of-type {\n",
       "        vertical-align: middle;\n",
       "    }\n",
       "\n",
       "    .dataframe tbody tr th {\n",
       "        vertical-align: top;\n",
       "    }\n",
       "\n",
       "    .dataframe thead th {\n",
       "        text-align: right;\n",
       "    }\n",
       "</style>\n",
       "<table border=\"1\" class=\"dataframe\">\n",
       "  <thead>\n",
       "    <tr style=\"text-align: right;\">\n",
       "      <th></th>\n",
       "      <th>command</th>\n",
       "      <th>action</th>\n",
       "      <th>code</th>\n",
       "      <th>Unnamed: 3</th>\n",
       "      <th>Unnamed: 4</th>\n",
       "      <th>Unnamed: 5</th>\n",
       "      <th>Unnamed: 6</th>\n",
       "      <th>Unnamed: 7</th>\n",
       "      <th>Unnamed: 8</th>\n",
       "    </tr>\n",
       "  </thead>\n",
       "  <tbody>\n",
       "    <tr>\n",
       "      <th>0</th>\n",
       "      <td>Go straight down the road</td>\n",
       "      <td>forward</td>\n",
       "      <td>3</td>\n",
       "      <td>NaN</td>\n",
       "      <td>NaN</td>\n",
       "      <td>NaN</td>\n",
       "      <td>NaN</td>\n",
       "      <td>NaN</td>\n",
       "      <td>NaN</td>\n",
       "    </tr>\n",
       "    <tr>\n",
       "      <th>1</th>\n",
       "      <td>Proceed in a straight line</td>\n",
       "      <td>forward</td>\n",
       "      <td>3</td>\n",
       "      <td>NaN</td>\n",
       "      <td>NaN</td>\n",
       "      <td>NaN</td>\n",
       "      <td>labels</td>\n",
       "      <td>NaN</td>\n",
       "      <td>NaN</td>\n",
       "    </tr>\n",
       "    <tr>\n",
       "      <th>2</th>\n",
       "      <td>Move forward without turning</td>\n",
       "      <td>forward</td>\n",
       "      <td>3</td>\n",
       "      <td>NaN</td>\n",
       "      <td>NaN</td>\n",
       "      <td>NaN</td>\n",
       "      <td>on</td>\n",
       "      <td>1.0</td>\n",
       "      <td>36.0</td>\n",
       "    </tr>\n",
       "    <tr>\n",
       "      <th>3</th>\n",
       "      <td>Continue straight ahead on this path</td>\n",
       "      <td>forward</td>\n",
       "      <td>3</td>\n",
       "      <td>NaN</td>\n",
       "      <td>NaN</td>\n",
       "      <td>NaN</td>\n",
       "      <td>off</td>\n",
       "      <td>2.0</td>\n",
       "      <td>36.0</td>\n",
       "    </tr>\n",
       "    <tr>\n",
       "      <th>4</th>\n",
       "      <td>Head directly down the street</td>\n",
       "      <td>forward</td>\n",
       "      <td>3</td>\n",
       "      <td>NaN</td>\n",
       "      <td>NaN</td>\n",
       "      <td>NaN</td>\n",
       "      <td>forward</td>\n",
       "      <td>3.0</td>\n",
       "      <td>139.0</td>\n",
       "    </tr>\n",
       "  </tbody>\n",
       "</table>\n",
       "</div>"
      ],
      "text/plain": [
       "                                command   action  code  Unnamed: 3  \\\n",
       "0             Go straight down the road  forward     3         NaN   \n",
       "1            Proceed in a straight line  forward     3         NaN   \n",
       "2          Move forward without turning  forward     3         NaN   \n",
       "3  Continue straight ahead on this path  forward     3         NaN   \n",
       "4         Head directly down the street  forward     3         NaN   \n",
       "\n",
       "   Unnamed: 4 Unnamed: 5 Unnamed: 6  Unnamed: 7  Unnamed: 8  \n",
       "0         NaN        NaN        NaN         NaN         NaN  \n",
       "1         NaN        NaN     labels         NaN         NaN  \n",
       "2         NaN        NaN         on         1.0        36.0  \n",
       "3         NaN        NaN        off         2.0        36.0  \n",
       "4         NaN        NaN    forward         3.0       139.0  "
      ]
     },
     "execution_count": 6,
     "metadata": {},
     "output_type": "execute_result"
    }
   ],
   "source": [
    "data.head()"
   ]
  },
  {
   "cell_type": "code",
   "execution_count": 10,
   "id": "d444d03b-e66b-4c06-9c72-db4874fa7b4c",
   "metadata": {},
   "outputs": [],
   "source": [
    "x = data['command']\n",
    "y = data['code']"
   ]
  },
  {
   "cell_type": "code",
   "execution_count": 11,
   "id": "c9eb9a3d-8cab-4731-aa9c-818372da31fc",
   "metadata": {},
   "outputs": [],
   "source": [
    "def lower_Case(text):\n",
    "  return text.lower()"
   ]
  },
  {
   "cell_type": "code",
   "execution_count": 12,
   "id": "134b3684-ab33-4b3d-847b-98255ff52d94",
   "metadata": {},
   "outputs": [],
   "source": [
    "x = x.apply(lower_Case)"
   ]
  },
  {
   "cell_type": "code",
   "execution_count": 14,
   "id": "6a341db1-3ccc-4a1b-919b-39265f1b94fd",
   "metadata": {},
   "outputs": [],
   "source": [
    "x = [i.replace('.', ' ') for i in x]\n",
    "x = [i.replace(',', ' ') for i in x]\n",
    "x = [i.replace('!', ' ') for i in x]\n",
    "x = [i.replace('@', ' ') for i in x]\n",
    "x = [i.replace('#', ' ') for i in x]\n",
    "x = [i.replace('$', ' ') for i in x]\n",
    "x = [i.replace('%', ' ') for i in x]\n",
    "x = [i.replace('^', ' ') for i in x]\n",
    "x = [i.replace('&', ' ') for i in x]\n",
    "x = [i.replace(')', ' ') for i in x]\n",
    "x = [i.replace('(', ' ') for i in x]\n",
    "x = [i.replace('-', ' ') for i in x]\n",
    "x = [i.replace('_', ' ') for i in x]\n",
    "x = [i.replace('=', ' ') for i in x]\n",
    "x = [i.replace('+', ' ') for i in x]\n",
    "x = [i.replace('/', ' ') for i in x]\n",
    "x = [i.replace('?', ' ') for i in x]\n",
    "x = [i.replace(';', ' ') for i in x]\n",
    "x = [i.replace('~', ' ') for i in x]"
   ]
  },
  {
   "cell_type": "code",
   "execution_count": 15,
   "id": "7376ca04-de0b-4bb2-88d2-1eb85b6853fc",
   "metadata": {},
   "outputs": [],
   "source": [
    "x= pd.Series(x)\n",
    "y= pd.Series(y)"
   ]
  },
  {
   "cell_type": "code",
   "execution_count": 16,
   "id": "69afbc72-7ea6-4558-896e-575d369bf90d",
   "metadata": {},
   "outputs": [],
   "source": [
    "data = {'x':x,\n",
    "        'y':y}"
   ]
  },
  {
   "cell_type": "code",
   "execution_count": 19,
   "id": "b020460d-42b4-47b3-ae39-5e98563c9d21",
   "metadata": {},
   "outputs": [],
   "source": [
    "data = pd.DataFrame(data)"
   ]
  },
  {
   "cell_type": "code",
   "execution_count": 21,
   "id": "5aa7c74d-f607-422a-8569-6f21eed0bbf4",
   "metadata": {},
   "outputs": [],
   "source": [
    "data.to_csv('nlp_data_clean.csv')"
   ]
  },
  {
   "cell_type": "code",
   "execution_count": 20,
   "id": "12d39af0-152d-4753-963a-1be7d03a5688",
   "metadata": {},
   "outputs": [
    {
     "data": {
      "text/html": [
       "<div>\n",
       "<style scoped>\n",
       "    .dataframe tbody tr th:only-of-type {\n",
       "        vertical-align: middle;\n",
       "    }\n",
       "\n",
       "    .dataframe tbody tr th {\n",
       "        vertical-align: top;\n",
       "    }\n",
       "\n",
       "    .dataframe thead th {\n",
       "        text-align: right;\n",
       "    }\n",
       "</style>\n",
       "<table border=\"1\" class=\"dataframe\">\n",
       "  <thead>\n",
       "    <tr style=\"text-align: right;\">\n",
       "      <th></th>\n",
       "      <th>x</th>\n",
       "      <th>y</th>\n",
       "    </tr>\n",
       "  </thead>\n",
       "  <tbody>\n",
       "    <tr>\n",
       "      <th>0</th>\n",
       "      <td>go straight down the road</td>\n",
       "      <td>3</td>\n",
       "    </tr>\n",
       "    <tr>\n",
       "      <th>1</th>\n",
       "      <td>proceed in a straight line</td>\n",
       "      <td>3</td>\n",
       "    </tr>\n",
       "    <tr>\n",
       "      <th>2</th>\n",
       "      <td>move forward without turning</td>\n",
       "      <td>3</td>\n",
       "    </tr>\n",
       "    <tr>\n",
       "      <th>3</th>\n",
       "      <td>continue straight ahead on this path</td>\n",
       "      <td>3</td>\n",
       "    </tr>\n",
       "    <tr>\n",
       "      <th>4</th>\n",
       "      <td>head directly down the street</td>\n",
       "      <td>3</td>\n",
       "    </tr>\n",
       "    <tr>\n",
       "      <th>...</th>\n",
       "      <td>...</td>\n",
       "      <td>...</td>\n",
       "    </tr>\n",
       "    <tr>\n",
       "      <th>971</th>\n",
       "      <td>pause</td>\n",
       "      <td>8</td>\n",
       "    </tr>\n",
       "    <tr>\n",
       "      <th>972</th>\n",
       "      <td>resume</td>\n",
       "      <td>8</td>\n",
       "    </tr>\n",
       "    <tr>\n",
       "      <th>973</th>\n",
       "      <td>rotate the wheelchair 180 degrees</td>\n",
       "      <td>14</td>\n",
       "    </tr>\n",
       "    <tr>\n",
       "      <th>974</th>\n",
       "      <td>engage the brakes to prevent movement</td>\n",
       "      <td>8</td>\n",
       "    </tr>\n",
       "    <tr>\n",
       "      <th>975</th>\n",
       "      <td>release the brakes to allow movement</td>\n",
       "      <td>4</td>\n",
       "    </tr>\n",
       "  </tbody>\n",
       "</table>\n",
       "<p>976 rows × 2 columns</p>\n",
       "</div>"
      ],
      "text/plain": [
       "                                         x   y\n",
       "0                go straight down the road   3\n",
       "1               proceed in a straight line   3\n",
       "2             move forward without turning   3\n",
       "3     continue straight ahead on this path   3\n",
       "4            head directly down the street   3\n",
       "..                                     ...  ..\n",
       "971                                  pause   8\n",
       "972                                 resume   8\n",
       "973      rotate the wheelchair 180 degrees  14\n",
       "974  engage the brakes to prevent movement   8\n",
       "975   release the brakes to allow movement   4\n",
       "\n",
       "[976 rows x 2 columns]"
      ]
     },
     "execution_count": 20,
     "metadata": {},
     "output_type": "execute_result"
    }
   ],
   "source": [
    "data"
   ]
  },
  {
   "cell_type": "code",
   "execution_count": null,
   "id": "c90f22be-4aeb-4a5d-a0c0-2e4078c4c7f1",
   "metadata": {},
   "outputs": [],
   "source": []
  }
 ],
 "metadata": {
  "kernelspec": {
   "display_name": "Python 3 (ipykernel)",
   "language": "python",
   "name": "python3"
  },
  "language_info": {
   "codemirror_mode": {
    "name": "ipython",
    "version": 3
   },
   "file_extension": ".py",
   "mimetype": "text/x-python",
   "name": "python",
   "nbconvert_exporter": "python",
   "pygments_lexer": "ipython3",
   "version": "3.12.1"
  }
 },
 "nbformat": 4,
 "nbformat_minor": 5
}
