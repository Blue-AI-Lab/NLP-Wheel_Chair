{
 "cells": [
  {
   "cell_type": "code",
   "execution_count": 1,
   "id": "e5da81d2-9e29-4913-b1eb-74e0fdb89299",
   "metadata": {},
   "outputs": [],
   "source": [
    "import pandas as pd"
   ]
  },
  {
   "cell_type": "code",
   "execution_count": 2,
   "id": "20bbab1f-83b5-4c49-94f2-3e51f772e22f",
   "metadata": {},
   "outputs": [],
   "source": [
    "data = pd.read_csv(\"nlp_data_clean_add.csv\")"
   ]
  },
  {
   "cell_type": "code",
   "execution_count": 4,
   "id": "72bcb47a-700d-4645-9c69-4aad1f440203",
   "metadata": {},
   "outputs": [],
   "source": [
    "from matplotlib import pyplot as plt"
   ]
  },
  {
   "cell_type": "code",
   "execution_count": 11,
   "id": "8bd0d7f7-65ef-485c-8b79-98f2df276717",
   "metadata": {},
   "outputs": [
    {
     "data": {
      "text/html": [
       "<div>\n",
       "<style scoped>\n",
       "    .dataframe tbody tr th:only-of-type {\n",
       "        vertical-align: middle;\n",
       "    }\n",
       "\n",
       "    .dataframe tbody tr th {\n",
       "        vertical-align: top;\n",
       "    }\n",
       "\n",
       "    .dataframe thead th {\n",
       "        text-align: right;\n",
       "    }\n",
       "</style>\n",
       "<table border=\"1\" class=\"dataframe\">\n",
       "  <thead>\n",
       "    <tr style=\"text-align: right;\">\n",
       "      <th></th>\n",
       "      <th>x</th>\n",
       "      <th>y</th>\n",
       "    </tr>\n",
       "  </thead>\n",
       "  <tbody>\n",
       "    <tr>\n",
       "      <th>1958</th>\n",
       "      <td>proceed towards the MBA block</td>\n",
       "      <td>19</td>\n",
       "    </tr>\n",
       "    <tr>\n",
       "      <th>1959</th>\n",
       "      <td>make your way towards the MBA block</td>\n",
       "      <td>19</td>\n",
       "    </tr>\n",
       "    <tr>\n",
       "      <th>1960</th>\n",
       "      <td>find your way to the MBA block</td>\n",
       "      <td>19</td>\n",
       "    </tr>\n",
       "    <tr>\n",
       "      <th>1961</th>\n",
       "      <td>head directly to the MBA block</td>\n",
       "      <td>19</td>\n",
       "    </tr>\n",
       "    <tr>\n",
       "      <th>1962</th>\n",
       "      <td>take a trip to the MBA block</td>\n",
       "      <td>19</td>\n",
       "    </tr>\n",
       "    <tr>\n",
       "      <th>...</th>\n",
       "      <td>...</td>\n",
       "      <td>...</td>\n",
       "    </tr>\n",
       "    <tr>\n",
       "      <th>2043</th>\n",
       "      <td>head right to the COE block</td>\n",
       "      <td>19</td>\n",
       "    </tr>\n",
       "    <tr>\n",
       "      <th>2044</th>\n",
       "      <td>head immediately to the COE block</td>\n",
       "      <td>19</td>\n",
       "    </tr>\n",
       "    <tr>\n",
       "      <th>2045</th>\n",
       "      <td>proceed immediately to the COE block</td>\n",
       "      <td>19</td>\n",
       "    </tr>\n",
       "    <tr>\n",
       "      <th>2046</th>\n",
       "      <td>walk right to the COE block</td>\n",
       "      <td>19</td>\n",
       "    </tr>\n",
       "    <tr>\n",
       "      <th>2047</th>\n",
       "      <td>move right to the COE block</td>\n",
       "      <td>19</td>\n",
       "    </tr>\n",
       "  </tbody>\n",
       "</table>\n",
       "<p>90 rows × 2 columns</p>\n",
       "</div>"
      ],
      "text/plain": [
       "                                         x   y\n",
       "1958         proceed towards the MBA block  19\n",
       "1959   make your way towards the MBA block  19\n",
       "1960        find your way to the MBA block  19\n",
       "1961        head directly to the MBA block  19\n",
       "1962          take a trip to the MBA block  19\n",
       "...                                    ...  ..\n",
       "2043           head right to the COE block  19\n",
       "2044     head immediately to the COE block  19\n",
       "2045  proceed immediately to the COE block  19\n",
       "2046           walk right to the COE block  19\n",
       "2047           move right to the COE block  19\n",
       "\n",
       "[90 rows x 2 columns]"
      ]
     },
     "execution_count": 11,
     "metadata": {},
     "output_type": "execute_result"
    }
   ],
   "source": [
    "data[-100:-10]"
   ]
  },
  {
   "cell_type": "code",
   "execution_count": 8,
   "id": "b20b78c8-cbbc-4548-8d6f-6f49c0fce6b5",
   "metadata": {},
   "outputs": [],
   "source": [
    "label = {\n",
    "1:'on',\n",
    "2:'off',\n",
    "3:'forward',\n",
    "4:'back',\n",
    "5:'left',\n",
    "6:'right',\n",
    "7:'stop',\n",
    "8:'speed_up',\n",
    "9:'slow_down',\n",
    "10:'slight_left',\n",
    "11:'slight_right',\n",
    "12:'turn_on_lights',\n",
    "13:'turn_off_lights',\n",
    "14:'u-turn',\n",
    "15:'don’t_forward',\n",
    "16:'don’t_back',\n",
    "17:'don’t_left',\n",
    "18:'don’t_right'\n",
    "}"
   ]
  },
  {
   "cell_type": "code",
   "execution_count": 9,
   "id": "b286d6d3-6bc5-4eb1-bf3e-d4c19e52bf87",
   "metadata": {},
   "outputs": [
    {
     "data": {
      "text/plain": [
       "{1: 'on',\n",
       " 2: 'off',\n",
       " 3: 'forward',\n",
       " 4: 'back',\n",
       " 5: 'left',\n",
       " 6: 'right',\n",
       " 7: 'stop',\n",
       " 8: 'speed_up',\n",
       " 9: 'slow_down',\n",
       " 10: 'slight_left',\n",
       " 11: 'slight_right',\n",
       " 12: 'turn_on_lights',\n",
       " 13: 'turn_off_lights',\n",
       " 14: 'u-turn',\n",
       " 15: 'don’t_forward',\n",
       " 16: 'don’t_back',\n",
       " 17: 'don’t_left',\n",
       " 18: 'don’t_right'}"
      ]
     },
     "execution_count": 9,
     "metadata": {},
     "output_type": "execute_result"
    }
   ],
   "source": [
    "label"
   ]
  },
  {
   "cell_type": "code",
   "execution_count": null,
   "id": "40ce0b64-ae46-402b-a277-26111f1272e5",
   "metadata": {},
   "outputs": [],
   "source": []
  }
 ],
 "metadata": {
  "kernelspec": {
   "display_name": "Python 3 (ipykernel)",
   "language": "python",
   "name": "python3"
  },
  "language_info": {
   "codemirror_mode": {
    "name": "ipython",
    "version": 3
   },
   "file_extension": ".py",
   "mimetype": "text/x-python",
   "name": "python",
   "nbconvert_exporter": "python",
   "pygments_lexer": "ipython3",
   "version": "3.12.1"
  }
 },
 "nbformat": 4,
 "nbformat_minor": 5
}
