{
 "cells": [
  {
   "cell_type": "code",
   "execution_count": 2,
   "id": "0415b3c4-8019-4bc4-938a-489d3b774e07",
   "metadata": {},
   "outputs": [],
   "source": [
    "import pandas as pd\n",
    "import numpy as np"
   ]
  },
  {
   "cell_type": "code",
   "execution_count": 3,
   "id": "f5562972-f578-4b24-b174-64e0ec821982",
   "metadata": {},
   "outputs": [
    {
     "name": "stdout",
     "output_type": "stream",
     "text": [
      "data.csv               main.py                random-forest.ipynb\n",
      "data_clean.ipynb       nlp_data_clean.csv     tokenizer.pickle\n",
      "data_preprocess.ipynb  nlp_data_clean_add.csv\n",
      "lable.json             preprocess_Data.csv\n"
     ]
    }
   ],
   "source": [
    "!ls"
   ]
  },
  {
   "cell_type": "code",
   "execution_count": 5,
   "id": "58d1f08d-3240-401a-8ec5-8bde1e74ce45",
   "metadata": {},
   "outputs": [],
   "source": [
    "data = pd.read_csv('nlp_data_clean_add.csv')"
   ]
  },
  {
   "cell_type": "code",
   "execution_count": 6,
   "id": "aebdf50c-16dc-4367-902f-93e6305d22a7",
   "metadata": {},
   "outputs": [
    {
     "data": {
      "text/html": [
       "<div>\n",
       "<style scoped>\n",
       "    .dataframe tbody tr th:only-of-type {\n",
       "        vertical-align: middle;\n",
       "    }\n",
       "\n",
       "    .dataframe tbody tr th {\n",
       "        vertical-align: top;\n",
       "    }\n",
       "\n",
       "    .dataframe thead th {\n",
       "        text-align: right;\n",
       "    }\n",
       "</style>\n",
       "<table border=\"1\" class=\"dataframe\">\n",
       "  <thead>\n",
       "    <tr style=\"text-align: right;\">\n",
       "      <th></th>\n",
       "      <th>x</th>\n",
       "      <th>y</th>\n",
       "    </tr>\n",
       "  </thead>\n",
       "  <tbody>\n",
       "    <tr>\n",
       "      <th>0</th>\n",
       "      <td>go straight down the road</td>\n",
       "      <td>3</td>\n",
       "    </tr>\n",
       "    <tr>\n",
       "      <th>1</th>\n",
       "      <td>proceed in a straight line</td>\n",
       "      <td>3</td>\n",
       "    </tr>\n",
       "    <tr>\n",
       "      <th>2</th>\n",
       "      <td>move forward without turning</td>\n",
       "      <td>3</td>\n",
       "    </tr>\n",
       "    <tr>\n",
       "      <th>3</th>\n",
       "      <td>continue straight ahead on this path</td>\n",
       "      <td>3</td>\n",
       "    </tr>\n",
       "    <tr>\n",
       "      <th>4</th>\n",
       "      <td>head directly down the street</td>\n",
       "      <td>3</td>\n",
       "    </tr>\n",
       "  </tbody>\n",
       "</table>\n",
       "</div>"
      ],
      "text/plain": [
       "                                      x  y\n",
       "0             go straight down the road  3\n",
       "1            proceed in a straight line  3\n",
       "2          move forward without turning  3\n",
       "3  continue straight ahead on this path  3\n",
       "4         head directly down the street  3"
      ]
     },
     "execution_count": 6,
     "metadata": {},
     "output_type": "execute_result"
    }
   ],
   "source": [
    "data.head()"
   ]
  },
  {
   "cell_type": "code",
   "execution_count": 7,
   "id": "d444d03b-e66b-4c06-9c72-db4874fa7b4c",
   "metadata": {},
   "outputs": [],
   "source": [
    "x = data['x']\n",
    "y = data['y']"
   ]
  },
  {
   "cell_type": "code",
   "execution_count": 8,
   "id": "c9eb9a3d-8cab-4731-aa9c-818372da31fc",
   "metadata": {},
   "outputs": [],
   "source": [
    "def lower_Case(text):\n",
    "  return text.lower()"
   ]
  },
  {
   "cell_type": "code",
   "execution_count": 9,
   "id": "134b3684-ab33-4b3d-847b-98255ff52d94",
   "metadata": {},
   "outputs": [],
   "source": [
    "x = x.apply(lower_Case)"
   ]
  },
  {
   "cell_type": "code",
   "execution_count": 10,
   "id": "6a341db1-3ccc-4a1b-919b-39265f1b94fd",
   "metadata": {},
   "outputs": [],
   "source": [
    "x = [i.replace('.', ' ') for i in x]\n",
    "x = [i.replace(',', ' ') for i in x]\n",
    "x = [i.replace('!', ' ') for i in x]\n",
    "x = [i.replace('@', ' ') for i in x]\n",
    "x = [i.replace('#', ' ') for i in x]\n",
    "x = [i.replace('$', ' ') for i in x]\n",
    "x = [i.replace('%', ' ') for i in x]\n",
    "x = [i.replace('^', ' ') for i in x]\n",
    "x = [i.replace('&', ' ') for i in x]\n",
    "x = [i.replace(')', ' ') for i in x]\n",
    "x = [i.replace('(', ' ') for i in x]\n",
    "x = [i.replace('-', ' ') for i in x]\n",
    "x = [i.replace('_', ' ') for i in x]\n",
    "x = [i.replace('=', ' ') for i in x]\n",
    "x = [i.replace('+', ' ') for i in x]\n",
    "x = [i.replace('/', ' ') for i in x]\n",
    "x = [i.replace('?', ' ') for i in x]\n",
    "x = [i.replace(';', ' ') for i in x]\n",
    "x = [i.replace('~', ' ') for i in x]"
   ]
  },
  {
   "cell_type": "code",
   "execution_count": 11,
   "id": "7376ca04-de0b-4bb2-88d2-1eb85b6853fc",
   "metadata": {},
   "outputs": [],
   "source": [
    "x= pd.Series(x)\n",
    "y= pd.Series(y)"
   ]
  },
  {
   "cell_type": "code",
   "execution_count": 12,
   "id": "69afbc72-7ea6-4558-896e-575d369bf90d",
   "metadata": {},
   "outputs": [],
   "source": [
    "data = {'x':x,\n",
    "        'y':y}"
   ]
  },
  {
   "cell_type": "code",
   "execution_count": 13,
   "id": "b020460d-42b4-47b3-ae39-5e98563c9d21",
   "metadata": {},
   "outputs": [],
   "source": [
    "data = pd.DataFrame(data)"
   ]
  },
  {
   "cell_type": "code",
   "execution_count": 14,
   "id": "5aa7c74d-f607-422a-8569-6f21eed0bbf4",
   "metadata": {},
   "outputs": [],
   "source": [
    "data.to_csv('nlp_data_clean.csv')"
   ]
  },
  {
   "cell_type": "code",
   "execution_count": 15,
   "id": "12d39af0-152d-4753-963a-1be7d03a5688",
   "metadata": {},
   "outputs": [],
   "source": [
    "data = pd.read_csv('nlp_data_clean.csv')"
   ]
  },
  {
   "cell_type": "code",
   "execution_count": 16,
   "id": "20d3b46e-c516-406d-9cd0-768e0c648cfa",
   "metadata": {},
   "outputs": [
    {
     "data": {
      "text/html": [
       "<div>\n",
       "<style scoped>\n",
       "    .dataframe tbody tr th:only-of-type {\n",
       "        vertical-align: middle;\n",
       "    }\n",
       "\n",
       "    .dataframe tbody tr th {\n",
       "        vertical-align: top;\n",
       "    }\n",
       "\n",
       "    .dataframe thead th {\n",
       "        text-align: right;\n",
       "    }\n",
       "</style>\n",
       "<table border=\"1\" class=\"dataframe\">\n",
       "  <thead>\n",
       "    <tr style=\"text-align: right;\">\n",
       "      <th></th>\n",
       "      <th>Unnamed: 0</th>\n",
       "      <th>x</th>\n",
       "      <th>y</th>\n",
       "    </tr>\n",
       "  </thead>\n",
       "  <tbody>\n",
       "    <tr>\n",
       "      <th>0</th>\n",
       "      <td>0</td>\n",
       "      <td>go straight down the road</td>\n",
       "      <td>3</td>\n",
       "    </tr>\n",
       "    <tr>\n",
       "      <th>1</th>\n",
       "      <td>1</td>\n",
       "      <td>proceed in a straight line</td>\n",
       "      <td>3</td>\n",
       "    </tr>\n",
       "    <tr>\n",
       "      <th>2</th>\n",
       "      <td>2</td>\n",
       "      <td>move forward without turning</td>\n",
       "      <td>3</td>\n",
       "    </tr>\n",
       "    <tr>\n",
       "      <th>3</th>\n",
       "      <td>3</td>\n",
       "      <td>continue straight ahead on this path</td>\n",
       "      <td>3</td>\n",
       "    </tr>\n",
       "    <tr>\n",
       "      <th>4</th>\n",
       "      <td>4</td>\n",
       "      <td>head directly down the street</td>\n",
       "      <td>3</td>\n",
       "    </tr>\n",
       "    <tr>\n",
       "      <th>...</th>\n",
       "      <td>...</td>\n",
       "      <td>...</td>\n",
       "      <td>...</td>\n",
       "    </tr>\n",
       "    <tr>\n",
       "      <th>2053</th>\n",
       "      <td>2053</td>\n",
       "      <td>reach the coe block</td>\n",
       "      <td>19</td>\n",
       "    </tr>\n",
       "    <tr>\n",
       "      <th>2054</th>\n",
       "      <td>2054</td>\n",
       "      <td>aim for the coe block</td>\n",
       "      <td>19</td>\n",
       "    </tr>\n",
       "    <tr>\n",
       "      <th>2055</th>\n",
       "      <td>2055</td>\n",
       "      <td>target the coe block</td>\n",
       "      <td>19</td>\n",
       "    </tr>\n",
       "    <tr>\n",
       "      <th>2056</th>\n",
       "      <td>2056</td>\n",
       "      <td>get to the coe block</td>\n",
       "      <td>19</td>\n",
       "    </tr>\n",
       "    <tr>\n",
       "      <th>2057</th>\n",
       "      <td>2057</td>\n",
       "      <td>approach the coe block</td>\n",
       "      <td>19</td>\n",
       "    </tr>\n",
       "  </tbody>\n",
       "</table>\n",
       "<p>2058 rows × 3 columns</p>\n",
       "</div>"
      ],
      "text/plain": [
       "      Unnamed: 0                                     x   y\n",
       "0              0             go straight down the road   3\n",
       "1              1            proceed in a straight line   3\n",
       "2              2          move forward without turning   3\n",
       "3              3  continue straight ahead on this path   3\n",
       "4              4         head directly down the street   3\n",
       "...          ...                                   ...  ..\n",
       "2053        2053                   reach the coe block  19\n",
       "2054        2054                 aim for the coe block  19\n",
       "2055        2055                  target the coe block  19\n",
       "2056        2056                  get to the coe block  19\n",
       "2057        2057                approach the coe block  19\n",
       "\n",
       "[2058 rows x 3 columns]"
      ]
     },
     "execution_count": 16,
     "metadata": {},
     "output_type": "execute_result"
    }
   ],
   "source": [
    "data"
   ]
  }
 ],
 "metadata": {
  "kernelspec": {
   "display_name": "Python 3 (ipykernel)",
   "language": "python",
   "name": "python3"
  },
  "language_info": {
   "codemirror_mode": {
    "name": "ipython",
    "version": 3
   },
   "file_extension": ".py",
   "mimetype": "text/x-python",
   "name": "python",
   "nbconvert_exporter": "python",
   "pygments_lexer": "ipython3",
   "version": "3.12.1"
  }
 },
 "nbformat": 4,
 "nbformat_minor": 5
}
